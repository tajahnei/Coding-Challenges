{
 "cells": [
  {
   "cell_type": "markdown",
   "metadata": {},
   "source": [
    "Task\n",
    "Complete the code in the editor below. The variables i, d, and s are already declared and initialized for you. \n",
    "You must:\n",
    "    \n",
    "1. Declare 3 variables: one of type int, one of type double, and one of type String.\n",
    "2. Read 3 lines of input from stdin (according to the sequence given in the Input Format section below) \n",
    "and initialize your 3 variables.\n",
    "3. Use the  operator to perform the following operations:\n",
    "    1. Print the sum of i plus your int variable on a new line.\n",
    "    2. Print the sum of d plus your double variable to a scale of one decimal place on a new line.\n",
    "    3. Concatenate s with the string you read as input and print the result on a new line.\n"
   ]
  },
  {
   "cell_type": "markdown",
   "metadata": {},
   "source": [
    "Note: If you are using a language that doesn't \n",
    "support using  for string concatenation (e.g.: C), you can just print one \n",
    "variable immediately following the other on the same line. \n",
    "The string provided in your editor must be printed first, \n",
    "immediately followed by the string you read as input.\n",
    "\n",
    "Input Format\n",
    "\n",
    "The first line contains an integer that you must sum with i.\n",
    "The second line contains a double that you must sum with d.\n",
    "The third line contains a string that you must concatenate with s.\n",
    "\n",
    "Output Format\n",
    "\n",
    "Print the sum of both integers on the first line, the sum of both doubles (scaled to 1 decimal place) on the second line, and then the two concatenated strings on the third line.\n",
    "\n",
    "Sample Input\n",
    "\n",
    "12\n",
    "4.0\n",
    "is the best place to learn and practice coding!\n",
    "\n",
    "Sample Output\n",
    "\n",
    "16\n",
    "8.0\n",
    "HackerRank is the best place to learn and practice coding!"
   ]
  },
  {
   "cell_type": "code",
   "execution_count": null,
   "metadata": {},
   "outputs": [],
   "source": [
    "# Declare second integer, double, and String variables.\n",
    "int2 = input()\n",
    "double2 = input()\n",
    "string2 = input()\n",
    "\n",
    "# Read and save an integer, double, and String to your variables.\n",
    "\n",
    "\n",
    "# Print the sum of both integer variables on a new line.\n",
    "print(i + int(int2))\n",
    "\n",
    "# Print the sum of the double variables on a new line.\n",
    "print(d + float(double2))\n",
    "\n",
    "# Concatenate and print the String variables on a new line\n",
    "# The 's' variable above should be printed first.\n",
    "print(s + string2)"
   ]
  },
  {
   "cell_type": "code",
   "execution_count": null,
   "metadata": {},
   "outputs": [],
   "source": []
  }
 ],
 "metadata": {
  "kernelspec": {
   "display_name": "Python 3",
   "language": "python",
   "name": "python3"
  },
  "language_info": {
   "codemirror_mode": {
    "name": "ipython",
    "version": 3
   },
   "file_extension": ".py",
   "mimetype": "text/x-python",
   "name": "python",
   "nbconvert_exporter": "python",
   "pygments_lexer": "ipython3",
   "version": "3.7.4"
  }
 },
 "nbformat": 4,
 "nbformat_minor": 2
}
