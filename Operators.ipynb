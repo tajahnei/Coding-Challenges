{
 "cells": [
  {
   "cell_type": "markdown",
   "metadata": {},
   "source": [
    "Objective\n",
    "In this challenge, you'll work with arithmetic operators. \n",
    "Check out the Tutorial tab for learning materials and an instructional video!\n",
    "\n",
    "Task\n",
    "Given the meal price (base cost of a meal), tip percent (the percentage of the meal price being added as tip), \n",
    "and tax percent (the percentage of the meal price being added as tax) for a meal, find and print the meal's \n",
    "total cost.\n",
    "\n",
    "Note: Be sure to use precise values for your calculations, or you may end up with an incorrectly rounded result!\n",
    "    \n",
    "Input Format\n",
    "\n",
    "There are 3 lines of numeric input:\n",
    "The first line has a double,  mealCost(the cost of the meal before tax and tip).\n",
    "The second line has an integer, tipPercent(the percentage of mealCost being added as tip).\n",
    "The third line has an integer, taxPercent (the percentage of mealCost being added as tax).\n",
    "\n",
    "Output Format\n",
    "\n",
    "Print the total meal cost, where totalCost is the rounded integer result of the entire bill \n",
    "(mealCost with added tax and tip).\n",
    "\n",
    "Sample Input\n",
    "\n",
    "12.00\n",
    "20\n",
    "8\n",
    "\n",
    "Sample Output\n",
    "\n",
    "15"
   ]
  },
  {
   "cell_type": "code",
   "execution_count": null,
   "metadata": {},
   "outputs": [],
   "source": [
    "import math\n",
    "import os\n",
    "import random\n",
    "import re\n",
    "import sys\n",
    "\n",
    "# Complete the solve function below.\n",
    "def solve(meal_cost, tip_percent, tax_percent):\n",
    "    if __name__ == '__main__':\n",
    "        meal_cost = float(input())\n",
    "\n",
    "        tip_percent = int(input()) * .01\n",
    "\n",
    "        tax_percent = int(input()) * .01\n",
    "\n",
    "        tip = meal_cost * tip_percent\n",
    "        tax = meal_cost * tax_percent\n",
    "\n",
    "        totalCost = meal_cost + tip + tax\n",
    "\n",
    "        print(round(totalCost))\n",
    "        \n",
    "\n",
    "solve(12.00, 20, 8)"
   ]
  },
  {
   "cell_type": "code",
   "execution_count": null,
   "metadata": {},
   "outputs": [],
   "source": []
  }
 ],
 "metadata": {
  "kernelspec": {
   "display_name": "Python 3",
   "language": "python",
   "name": "python3"
  },
  "language_info": {
   "codemirror_mode": {
    "name": "ipython",
    "version": 3
   },
   "file_extension": ".py",
   "mimetype": "text/x-python",
   "name": "python",
   "nbconvert_exporter": "python",
   "pygments_lexer": "ipython3",
   "version": "3.7.4"
  }
 },
 "nbformat": 4,
 "nbformat_minor": 2
}
